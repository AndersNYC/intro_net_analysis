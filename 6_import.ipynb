{
 "cells": [
  {
   "cell_type": "markdown",
   "metadata": {},
   "source": [
    "# Reading files and importing data\n",
    "\n",
    "Reading files can be very different depending on the format that you find them. We will practice here one that is already made for you. This part is about learning to to prepare data for analysis, which is usually the hardest and more laborious part. "
   ]
  },
  {
   "cell_type": "code",
   "execution_count": 1,
   "metadata": {},
   "outputs": [],
   "source": [
    "import networkx as nx\n",
    "import csv\n",
    "import matplotlib.pyplot as plt\n",
    "%matplotlib inline\n"
   ]
  },
  {
   "cell_type": "code",
   "execution_count": 2,
   "metadata": {},
   "outputs": [
    {
     "name": "stdout",
     "output_type": "stream",
     "text": [
      "[['Name', 'Sex', 'Age'], ['John', 'Male', '35'], ['Paul', 'Male', '46']]\n"
     ]
    }
   ],
   "source": [
    "node_csv = open('small_network_nodes.csv', 'r') # opens the file\n",
    "\n",
    "node_reader = csv.reader(node_csv) # reads the csv\n",
    "\n",
    "# The csv readers don't support indexing. The value returned is not a list, it is an iterator over the rows. To make them a list:\n",
    "\n",
    "nodes = []\n",
    "for row in node_reader:\n",
    "    nodes.append(row)\n",
    "\n",
    "node_csv.close() # It is important to close all files we open to save memory. It is good coding practice.\n",
    "\n",
    "\n",
    "print(nodes[0:3]) # Problem: first item in the list is not data, it is a header.\n"
   ]
  },
  {
   "cell_type": "code",
   "execution_count": 3,
   "metadata": {},
   "outputs": [
    {
     "name": "stdout",
     "output_type": "stream",
     "text": [
      "[['John', 'Male', '35'], ['Paul', 'Male', '46'], ['George', 'Male', '24']]\n"
     ]
    }
   ],
   "source": [
    "del nodes[0] # to get rid of firs row\n",
    "print(nodes[0:3])"
   ]
  },
  {
   "cell_type": "code",
   "execution_count": 4,
   "metadata": {},
   "outputs": [
    {
     "name": "stdout",
     "output_type": "stream",
     "text": [
      "['John', 'Paul', 'George', 'Ringo', 'Mary', 'Amy', 'Kelly', 'Sarah', 'Joana', 'Patrick', 'Bruno', 'Rita']\n"
     ]
    }
   ],
   "source": [
    "# let's create a variable just for node names\n",
    "\n",
    "node_names = []\n",
    "for n in nodes:\n",
    "    node_names.append(n[0])\n",
    "\n",
    "print(node_names)\n",
    "\n"
   ]
  },
  {
   "cell_type": "code",
   "execution_count": 5,
   "metadata": {},
   "outputs": [
    {
     "name": "stdout",
     "output_type": "stream",
     "text": [
      "[('John', 'Paul'), ('Paul', 'George'), ('George', 'Sarah')]\n"
     ]
    }
   ],
   "source": [
    "#Now we want to do the same with the edges list.\n",
    "\n",
    "edge_csv = open('small_network_edges.csv', 'r')\n",
    "edge_reader = csv.reader(edge_csv)\n",
    "\n",
    "edges = []\n",
    "for e in edge_reader:\n",
    "    edges.append(tuple(e)) # we need to make them as tuples to be in conformity with the standards of NetworkX. If we don't do this, it will produce a list of lists.\n",
    "\n",
    "edge_csv.close()\n",
    "\n",
    "print(edges[0:3]) # Since there was no header on csv, this is fine."
   ]
  },
  {
   "cell_type": "markdown",
   "metadata": {},
   "source": [
    "-------------------------------------------\n",
    "\n",
    "As it happens often in programming, there is a better way to write those things above. Better code is usually more concise and clean, which makes them easier to write and to read. The cell below will do the same things we just did, so you don't have to run it if you don't want. But it might be worth to try to understand it.\n",
    "\n",
    "The with statement makes sure that the file will be open only for what is inside the statement, closing it automatically after it is done. The list comprehension works as a for loop, but it is cleaner.\n",
    "\n",
    "Quick guide of List comprehension: \n",
    "`[` *output expression* `for` *iterator variable* `in` *iterable* `if` *predicate expression*`]` \n"
   ]
  },
  {
   "cell_type": "code",
   "execution_count": 6,
   "metadata": {},
   "outputs": [],
   "source": [
    "with open('small_network_nodes.csv', 'r') as nodecsv:\n",
    "    nodereader = csv.reader(nodecsv)\n",
    "    nodes = [n for n in nodereader][1:]\n",
    "\n",
    "node_names = [n[0] for n in nodes]\n",
    "\n",
    "with open('small_network_edges.csv', 'r') as edgecsv:\n",
    "    edgereader = csv.reader(edgecsv)\n",
    "    edges = [tuple(e) for e in edgereader][1:] # the [1:] is only if first line is heading\n",
    "\n",
    "               \n",
    "\n"
   ]
  },
  {
   "cell_type": "code",
   "execution_count": 7,
   "metadata": {},
   "outputs": [
    {
     "name": "stdout",
     "output_type": "stream",
     "text": [
      "[['John', 'Male', '35'], ['Paul', 'Male', '46'], ['George', 'Male', '24'], ['Ringo', 'Male', '87'], ['Mary', 'Female', '45'], ['Amy', 'Female', '46'], ['Kelly', 'Female', '43'], ['Sarah', 'Female', '18'], ['Joana', 'Female', '28'], ['Patrick', 'Male', '44'], ['Bruno', 'Male', '88'], ['Rita', 'Female', '74']]\n"
     ]
    }
   ],
   "source": [
    "print(nodes)"
   ]
  },
  {
   "cell_type": "code",
   "execution_count": 8,
   "metadata": {},
   "outputs": [
    {
     "data": {
      "text/plain": [
       "[]"
      ]
     },
     "execution_count": 8,
     "metadata": {},
     "output_type": "execute_result"
    },
    {
     "data": {
      "image/png": "[encoded data removed]",
      "text/plain": [
       "<Figure size 432x288 with 1 Axes>"
      ]
     },
     "metadata": {},
     "output_type": "display_data"
    }
   ],
   "source": [
    "G = nx.Graph()\n",
    "\n",
    "G.add_nodes_from(node_names)\n",
    "G.add_edges_from(edges)\n",
    "\n",
    "nx.draw(G)\n",
    "plt.plot()\n",
    "#print(nx.info(G))"
   ]
  },
  {
   "cell_type": "markdown",
   "metadata": {},
   "source": [
    "----------------------------------------------\n",
    "\n",
    "Now we want to create sex and age dictionaries so we can make use of our metadata.\n"
   ]
  },
  {
   "cell_type": "code",
   "execution_count": 9,
   "metadata": {},
   "outputs": [],
   "source": [
    "sex_dict = {}\n",
    "age_dict = {}\n",
    "\n",
    "for node in nodes:\n",
    "    sex_dict[node[0]] = node[1]\n",
    "    age_dict[node[0]] = node[2]\n",
    "\n",
    "nx.set_node_attributes(G, sex_dict, 'sex')\n",
    "nx.set_node_attributes(G, age_dict, 'age')"
   ]
  },
  {
   "cell_type": "code",
   "execution_count": 10,
   "metadata": {},
   "outputs": [
    {
     "data": {
      "text/plain": [
       "NodeDataView({'John': {'sex': 'Male', 'age': '35'}, 'Paul': {'sex': 'Male', 'age': '46'}, 'George': {'sex': 'Male', 'age': '24'}, 'Ringo': {'sex': 'Male', 'age': '87'}, 'Mary': {'sex': 'Female', 'age': '45'}, 'Amy': {'sex': 'Female', 'age': '46'}, 'Kelly': {'sex': 'Female', 'age': '43'}, 'Sarah': {'sex': 'Female', 'age': '18'}, 'Joana': {'sex': 'Female', 'age': '28'}, 'Patrick': {'sex': 'Male', 'age': '44'}, 'Bruno': {'sex': 'Male', 'age': '88'}, 'Rita': {'sex': 'Female', 'age': '74'}})"
      ]
     },
     "execution_count": 10,
     "metadata": {},
     "output_type": "execute_result"
    }
   ],
   "source": [
    "G.nodes(data=True)"
   ]
  },
  {
   "cell_type": "code",
   "execution_count": 11,
   "metadata": {},
   "outputs": [
    {
     "name": "stdout",
     "output_type": "stream",
     "text": [
      "John Male\n",
      "Paul Male\n",
      "George Male\n",
      "Ringo Male\n",
      "Mary Female\n",
      "Amy Female\n",
      "Kelly Female\n",
      "Sarah Female\n",
      "Joana Female\n",
      "Patrick Male\n",
      "Bruno Male\n",
      "Rita Female\n"
     ]
    }
   ],
   "source": [
    "for n in G.nodes():\n",
    "    print(n, G.node[n]['sex'])"
   ]
  },
  {
   "cell_type": "code",
   "execution_count": 15,
   "metadata": {},
   "outputs": [
    {
     "data": {
      "image/png": "[encoded data removed]",
      "text/plain": [
       "<Figure size 432x288 with 1 Axes>"
      ]
     },
     "metadata": {
      "needs_background": "light"
     },
     "output_type": "display_data"
    }
   ],
   "source": [
    "nx.draw_networkx(G, node_size=1000)"
   ]
  },
  {
   "cell_type": "markdown",
   "metadata": {},
   "source": [
    "--------------------------------------\n",
    "\n",
    "Now we create a color map so we can display the sex of the nodes in different colors."
   ]
  },
  {
   "cell_type": "code",
   "execution_count": 16,
   "metadata": {},
   "outputs": [],
   "source": [
    "color_map = []\n",
    "for n in G.nodes():\n",
    "    if G.node[n]['sex'] == 'Female':\n",
    "        color_map.append('blue')\n",
    "    else: \n",
    "        color_map.append('green') "
   ]
  },
  {
   "cell_type": "code",
   "execution_count": 17,
   "metadata": {},
   "outputs": [
    {
     "data": {
      "image/png": "[encoded data removed]",
      "text/plain": [
       "<Figure size 432x288 with 1 Axes>"
      ]
     },
     "metadata": {
      "needs_background": "light"
     },
     "output_type": "display_data"
    }
   ],
   "source": [
    "nx.draw_networkx(G, node_size=1500, node_color=color_map, font_color='white')"
   ]
  },
  {
   "cell_type": "code",
   "execution_count": 18,
   "metadata": {},
   "outputs": [
    {
     "data": {
      "text/plain": [
       "0.25757575757575757"
      ]
     },
     "execution_count": 18,
     "metadata": {},
     "output_type": "execute_result"
    }
   ],
   "source": [
    "nx.density(G)"
   ]
  },
  {
   "cell_type": "code",
   "execution_count": 19,
   "metadata": {},
   "outputs": [
    {
     "data": {
      "text/plain": [
       "['Kelly', 'George', 'Paul', 'John']"
      ]
     },
     "execution_count": 19,
     "metadata": {},
     "output_type": "execute_result"
    }
   ],
   "source": [
    "nx.shortest_path(G, source=\"Kelly\", target=\"John\")\n"
   ]
  },
  {
   "cell_type": "code",
   "execution_count": 20,
   "metadata": {},
   "outputs": [
    {
     "data": {
      "text/plain": [
       "4"
      ]
     },
     "execution_count": 20,
     "metadata": {},
     "output_type": "execute_result"
    }
   ],
   "source": [
    "nx.diameter(G) #the longest of all shortest paths"
   ]
  },
  {
   "cell_type": "code",
   "execution_count": 21,
   "metadata": {},
   "outputs": [
    {
     "data": {
      "text/plain": [
       "0.3488372093023256"
      ]
     },
     "execution_count": 21,
     "metadata": {},
     "output_type": "execute_result"
    }
   ],
   "source": [
    "nx.transitivity(G)"
   ]
  },
  {
   "cell_type": "code",
   "execution_count": 22,
   "metadata": {},
   "outputs": [
    {
     "data": {
      "text/plain": [
       "DegreeView({'John': 1, 'Paul': 5, 'George': 6, 'Ringo': 4, 'Mary': 2, 'Amy': 2, 'Kelly': 3, 'Sarah': 3, 'Joana': 2, 'Patrick': 2, 'Bruno': 2, 'Rita': 2})"
      ]
     },
     "execution_count": 22,
     "metadata": {},
     "output_type": "execute_result"
    }
   ],
   "source": [
    "G.degree()"
   ]
  },
  {
   "cell_type": "code",
   "execution_count": 24,
   "metadata": {},
   "outputs": [
    {
     "data": {
      "image/png": "[encoded data removed]",
      "text/plain": [
       "<Figure size 432x288 with 1 Axes>"
      ]
     },
     "metadata": {
      "needs_background": "light"
     },
     "output_type": "display_data"
    }
   ],
   "source": [
    "people = []\n",
    "friends = []\n",
    "\n",
    "for person, connections in G.degree():\n",
    "    people.append(person)\n",
    "    friends.append(connections)\n",
    "\n",
    "plt.plot(people, friends, 'yo') # 'yo' means put dots on our Y values. Try 'yo-' to see what happens.\n",
    "plt.xlabel('Person')\n",
    "plt.ylabel('Friends')\n",
    "plt.show()"
   ]
  },
  {
   "cell_type": "code",
   "execution_count": null,
   "metadata": {},
   "outputs": [],
   "source": [
    "# noi = [n for n, d in T.nodes(data=True) if d['occupation'] == 'scientist']\n",
    "noi = []\n",
    "for n, d in G.nodes(data=True):\n",
    "    if d['sex'] == 'Male':\n",
    "        noi.append({n:d['age']}) # just n if we want only to know"
   ]
  },
  {
   "cell_type": "code",
   "execution_count": null,
   "metadata": {},
   "outputs": [],
   "source": [
    "print(noi)"
   ]
  },
  {
   "cell_type": "code",
   "execution_count": null,
   "metadata": {},
   "outputs": [],
   "source": [
    "type(noi)"
   ]
  },
  {
   "cell_type": "code",
   "execution_count": null,
   "metadata": {},
   "outputs": [],
   "source": [
    "H = nx.Graph()\n"
   ]
  },
  {
   "cell_type": "markdown",
   "metadata": {},
   "source": [
    "If you have only an edge list in a text file, it is actually much simpler:\n",
    "\n",
    "`G = nx.read_edgelist('filename.txt')`. You create the graph like this. \n",
    "\n",
    "If you need to make it a different kind of Graph, such as a DiGraph, you can pass an argument: `G = nx.read_edgelist('test.txt', create_using=nx.DiGraph())`.\n",
    "\n",
    "If the third number is the weight, we can use `G = nx.read_edgelist('test.txt', data=(('weight',float),), create_using=nx.DiGraph())`. Don't ask me about the comma after the parenthesys in \"...float),)\". I can't see any sense, but that's how it is in the official documentation.\n",
    "\n",
    "To see other options of importing data for your network graph, check the [NetworkX Documentation](https://networkx.github.io/documentation/stable/)\n",
    "\n",
    "\n",
    "\n"
   ]
  },
  {
   "cell_type": "markdown",
   "metadata": {},
   "source": [
    "[Next](https://github.com/rafadavis/intro_net_analysis/blob/master/7_resources.md)"
   ]
  },
  {
   "cell_type": "code",
   "execution_count": null,
   "metadata": {},
   "outputs": [],
   "source": []
  }
 ],
 "metadata": {
  "kernelspec": {
   "display_name": "Python 3",
   "language": "python",
   "name": "python3"
  },
  "language_info": {
   "codemirror_mode": {
    "name": "ipython",
    "version": 3
   },
   "file_extension": ".py",
   "mimetype": "text/x-python",
   "name": "python",
   "nbconvert_exporter": "python",
   "pygments_lexer": "ipython3",
   "version": "3.7.2"
  }
 },
 "nbformat": 4,
 "nbformat_minor": 2
}
